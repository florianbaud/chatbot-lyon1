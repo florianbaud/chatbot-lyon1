{
 "cells": [
  {
   "cell_type": "markdown",
   "metadata": {},
   "source": [
    "# Générateur de dialogue\n"
   ]
  },
  {
   "cell_type": "code",
   "execution_count": null,
   "metadata": {},
   "outputs": [],
   "source": [
    "%load_ext autoreload\n",
    "%autoreload 2\n"
   ]
  },
  {
   "cell_type": "code",
   "execution_count": null,
   "metadata": {},
   "outputs": [],
   "source": [
    "templates_path = './data/Templates-beta/'\n"
   ]
  },
  {
   "cell_type": "code",
   "execution_count": null,
   "metadata": {},
   "outputs": [],
   "source": [
    "import os\n",
    "import torch\n",
    "\n",
    "from ChatbotDS.generator.dialogs_generator import DialogsGenerator\n",
    "from ChatbotDS.generator.dialog import Dialog\n",
    "from ChatbotDS.code.code_response import CodeResponse\n",
    "from ChatbotDS.preprocessing.preprocessing_dialogs import PreprocessingDialogs\n",
    "from ChatbotDS.utils.voc import Voc\n",
    "from ChatbotDS.utils.utils import import_template2, Student\n",
    "from ChatbotDS.utils.utils import import_replace_variable\n",
    "from ChatbotDS.utils.templates import Templates\n",
    "from ChatbotDS.chatbot.chatbot import Chatbot\n",
    "from ChatbotDS.chatbot.trainer import Trainer\n",
    "from ChatbotDS.chatbot.evaluation import Evaluation\n"
   ]
  },
  {
   "cell_type": "markdown",
   "metadata": {},
   "source": [
    "## Générateur\n",
    "\n",
    "Création du générateur :\n"
   ]
  },
  {
   "cell_type": "code",
   "execution_count": null,
   "metadata": {},
   "outputs": [],
   "source": [
    "gen = DialogsGenerator(templates_path)\n"
   ]
  },
  {
   "cell_type": "markdown",
   "metadata": {},
   "source": [
    "Génération des dialogues :\n"
   ]
  },
  {
   "cell_type": "code",
   "execution_count": null,
   "metadata": {},
   "outputs": [],
   "source": [
    "mode = 'Full'  # Full, Train, Test\n",
    "dialogs_len = 20000\n",
    "dialog_len = 35\n",
    "\n",
    "gen.generate_dialogs(mode=mode, dialogs_len=dialogs_len, dialog_len=dialog_len)\n"
   ]
  },
  {
   "cell_type": "code",
   "execution_count": null,
   "metadata": {},
   "outputs": [],
   "source": [
    "gen.generate_dialog()\n"
   ]
  },
  {
   "cell_type": "markdown",
   "metadata": {},
   "source": [
    "Sauvegarde des dialogues :\n"
   ]
  },
  {
   "cell_type": "code",
   "execution_count": null,
   "metadata": {},
   "outputs": [],
   "source": [
    "dialog_name = './data/ChatbotDS_P_{}_.tsv'.format(mode)\n",
    "gen.save(dialog_name)\n"
   ]
  },
  {
   "cell_type": "markdown",
   "metadata": {},
   "source": [
    "## Code de la réponse\n",
    "\n",
    "Création de la génération du code :\n"
   ]
  },
  {
   "cell_type": "code",
   "execution_count": null,
   "metadata": {},
   "outputs": [],
   "source": [
    "mode = 'Full'\n",
    "dialog_name = f'./data/ChatbotDS_P_{mode}_.tsv'\n",
    "code = CodeResponse(dialog_name, templates_path)\n"
   ]
  },
  {
   "cell_type": "markdown",
   "metadata": {},
   "source": [
    "On applique le code \"Baseline\" :\n"
   ]
  },
  {
   "cell_type": "code",
   "execution_count": null,
   "metadata": {},
   "outputs": [],
   "source": [
    "baseline = code.baseline()\n"
   ]
  },
  {
   "cell_type": "markdown",
   "metadata": {},
   "source": [
    "Sauvegarde des dialogues avec le code :\n"
   ]
  },
  {
   "cell_type": "code",
   "execution_count": null,
   "metadata": {},
   "outputs": [],
   "source": [
    "save_path = f'./data/ChatbotDS_{mode}_Baseline.tsv'\n",
    "code.save(save_path)\n"
   ]
  },
  {
   "cell_type": "markdown",
   "metadata": {},
   "source": [
    "## Pré-processing\n"
   ]
  },
  {
   "cell_type": "markdown",
   "metadata": {},
   "source": [
    "Initialisation du pré-processing :\n"
   ]
  },
  {
   "cell_type": "code",
   "execution_count": null,
   "metadata": {},
   "outputs": [],
   "source": [
    "set_type = \"Full\"\n",
    "data = './data/ChatbotDS_{}_Baseline.tsv'.format(set_type)\n",
    "memory_len = 6\n",
    "preprocess = 'base2'\n",
    "process_output = False\n",
    "unk_token = 'unk_token'  # [UNK], unk_token\n",
    "\n",
    "prep = PreprocessingDialogs(\n",
    "    name='prep',\n",
    "    diags_path=data,\n",
    "    mem_len=memory_len,\n",
    "    preprocess=preprocess,\n",
    "    process_output=process_output,\n",
    "    unk_token=unk_token,\n",
    ")\n"
   ]
  },
  {
   "cell_type": "markdown",
   "metadata": {},
   "source": [
    "Pré-processing :\n"
   ]
  },
  {
   "cell_type": "code",
   "execution_count": null,
   "metadata": {},
   "outputs": [],
   "source": [
    "prep.prepare_data()\n"
   ]
  },
  {
   "cell_type": "markdown",
   "metadata": {},
   "source": [
    "Sauvegarde des dialogues avec pré-processing :\n"
   ]
  },
  {
   "cell_type": "code",
   "execution_count": null,
   "metadata": {},
   "outputs": [],
   "source": [
    "save_file = './data/ChatbotDS_P_{}_Baseline_{}.tsv'.format(\n",
    "    set_type, preprocess)\n",
    "to_zip = False\n",
    "\n",
    "prep.save_diags(save_file, to_zip=to_zip)\n"
   ]
  },
  {
   "cell_type": "markdown",
   "metadata": {},
   "source": [
    "## Training\n"
   ]
  },
  {
   "cell_type": "markdown",
   "metadata": {},
   "source": [
    "Import des données :\n"
   ]
  },
  {
   "cell_type": "code",
   "execution_count": null,
   "metadata": {},
   "outputs": [],
   "source": [
    "diags_path = './data/ChatbotDS_P_Train_Baseline_base2.tsv'\n",
    "diags = import_template2(path=diags_path)\n"
   ]
  },
  {
   "cell_type": "markdown",
   "metadata": {},
   "source": [
    "Création du Vocabulaire :\n"
   ]
  },
  {
   "cell_type": "code",
   "execution_count": null,
   "metadata": {},
   "outputs": [],
   "source": [
    "data_memory_size = 6\n",
    "unk_token = 'unk_token'\n",
    "unk_text = \"Je n'ai pas compris, merci de reformuler la question.\"\n",
    "\n",
    "voc = Voc(diags, data_memory_size, unk_token=unk_token, unk_text=unk_text)\n"
   ]
  },
  {
   "cell_type": "markdown",
   "metadata": {},
   "source": [
    "Création du chatbot :\n"
   ]
  },
  {
   "cell_type": "code",
   "execution_count": null,
   "metadata": {},
   "outputs": [],
   "source": [
    "hidden_size = 128\n",
    "attn_method = \"general\"\n",
    "attn_hidden_size = 128\n",
    "memory_size = len(diags[0][0][2])\n",
    "code_size = len(diags[0][0][2])\n",
    "encoder_layers = 1\n",
    "bidirectional = True\n",
    "encoder_dropout = 0.2\n",
    "decoder_dropout = 0.1\n",
    "\n",
    "chatbot = Chatbot(voc, hidden_size, attn_method, attn_hidden_size, memory_size,\n",
    "                  code_size, encoder_layers=encoder_layers, bidirectional=bidirectional,\n",
    "                  encoder_dropout=encoder_dropout, decoder_dropout=decoder_dropout)\n"
   ]
  },
  {
   "cell_type": "markdown",
   "metadata": {},
   "source": [
    "Création des données d'entrainement et initialisation du trainer :\n"
   ]
  },
  {
   "cell_type": "code",
   "execution_count": null,
   "metadata": {},
   "outputs": [],
   "source": [
    "data = [[[p[0], p[2]] for p in d] for d in diags]\n",
    "\n",
    "trainer = Trainer(chatbot, data, device=\"cuda\")\n"
   ]
  },
  {
   "cell_type": "markdown",
   "metadata": {},
   "source": [
    "Entrainement :\n"
   ]
  },
  {
   "cell_type": "code",
   "execution_count": null,
   "metadata": {},
   "outputs": [],
   "source": [
    "iterations = 8000\n",
    "learning_rate = 5e-5\n",
    "clip = 10\n",
    "print_every = 100\n",
    "progress = True\n",
    "teacher_forcing = 1\n",
    "noise_p_word = 0.025\n",
    "noise_p = 0.2\n",
    "\n",
    "trainer(\n",
    "    iterations,\n",
    "    learning_rate,\n",
    "    clip=clip,\n",
    "    progress=progress,\n",
    "    print_every=print_every,\n",
    "    teacher_forcing=teacher_forcing,\n",
    "    noise_p_word=noise_p_word,\n",
    "    noise_p=noise_p,\n",
    ")\n"
   ]
  },
  {
   "cell_type": "markdown",
   "metadata": {},
   "source": [
    "Sauvegarde du modèle :\n"
   ]
  },
  {
   "cell_type": "code",
   "execution_count": null,
   "metadata": {},
   "outputs": [],
   "source": [
    "chatbot_name = os.path.split(diags_path)[-1].split('.')[0]\n",
    "chatbot.save(f'./{chatbot_name}.tar')\n"
   ]
  },
  {
   "cell_type": "markdown",
   "metadata": {},
   "source": [
    "Chargement d'un modèle précédemment sauvé :\n"
   ]
  },
  {
   "cell_type": "code",
   "execution_count": null,
   "metadata": {},
   "outputs": [],
   "source": [
    "chatbot = Chatbot.load(f'./{chatbot_name}.tar')\n"
   ]
  },
  {
   "cell_type": "markdown",
   "metadata": {},
   "source": [
    "## Evaluation\n"
   ]
  },
  {
   "cell_type": "code",
   "execution_count": null,
   "metadata": {
    "scrolled": true
   },
   "outputs": [],
   "source": [
    "var_replace = import_replace_variable('./data/var_data.json')\n",
    "\n",
    "evaluation = Evaluation(\n",
    "    chatbot,\n",
    "    var_replace,\n",
    "    device=\"cuda\",\n",
    "    preprocess='base2',\n",
    "    verbose=False,\n",
    ")\n"
   ]
  },
  {
   "cell_type": "code",
   "execution_count": null,
   "metadata": {},
   "outputs": [],
   "source": [
    "res = evaluation.chat(print_memory=True)\n"
   ]
  },
  {
   "cell_type": "code",
   "execution_count": null,
   "metadata": {},
   "outputs": [],
   "source": [
    "evaluation.eval_data('./data/ChatbotDS_P_Test_Baseline_base2.tsv')\n"
   ]
  }
 ],
 "metadata": {
  "celltoolbar": "Format de la Cellule Texte Brut",
  "interpreter": {
   "hash": "c3996e8caf2bf7ead4eb125db78e8a9245e0a14214f1a43680439885f9ff6777"
  },
  "kernelspec": {
   "display_name": "Python 3.8.8 64-bit ('chatbotds': conda)",
   "language": "python",
   "name": "python3"
  },
  "language_info": {
   "codemirror_mode": {
    "name": "ipython",
    "version": 3
   },
   "file_extension": ".py",
   "mimetype": "text/x-python",
   "name": "python",
   "nbconvert_exporter": "python",
   "pygments_lexer": "ipython3",
   "version": "3.8.8"
  }
 },
 "nbformat": 4,
 "nbformat_minor": 4
}
